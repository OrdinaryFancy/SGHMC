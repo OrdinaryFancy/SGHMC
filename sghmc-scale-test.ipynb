{
 "cells": [
  {
   "cell_type": "code",
   "execution_count": 1,
   "metadata": {},
   "outputs": [],
   "source": [
    "import math\n",
    "\n",
    "from matplotlib import pyplot as plt\n",
    "\n",
    "import numpy as np\n",
    "\n",
    "import torch\n",
    "\n",
    "import pyro\n",
    "import pyro.distributions as dist\n",
    "\n",
    "from util import initialize_model"
   ]
  },
  {
   "cell_type": "markdown",
   "metadata": {},
   "source": [
    "Here's our toy model. The prior and the likelihood are normal, so the posterior is too."
   ]
  },
  {
   "cell_type": "code",
   "execution_count": 2,
   "metadata": {},
   "outputs": [],
   "source": [
    "def model(data):\n",
    "    loc = pyro.sample(\"loc\", dist.Normal(0,1))\n",
    "    return pyro.sample(\"out\", dist.Normal(loc, 1), obs=data)"
   ]
  },
  {
   "cell_type": "markdown",
   "metadata": {},
   "source": [
    "The log prior likelihood is:\n",
    "$$\n",
    "\\log p(\\mu) = -(\\mu^2 + \\log\\sqrt{2\\pi})\n",
    "$$\n",
    "For a single observation of $x$ of 'out', the log likelihood is:\n",
    "$$\n",
    "\\log p(x \\mid \\mu) = -((x-\\mu)^2 + \\log\\sqrt{2\\pi})\n",
    "$$"
   ]
  },
  {
   "cell_type": "markdown",
   "metadata": {},
   "source": [
    "Let's suppose we have a dataset of size `data_size` $=|\\mathcal D|$, and we draw a sample/minibatch of size `data_sample_size` $=|\\widetilde{\\mathcal D}|$. Let's suppose for each datapoint the value of 'out' is 1.0."
   ]
  },
  {
   "cell_type": "code",
   "execution_count": 3,
   "metadata": {},
   "outputs": [],
   "source": [
    "data_size = 100\n",
    "data_sample_size = 10\n",
    "data_sample = torch.ones(data_sample_size)"
   ]
  },
  {
   "cell_type": "markdown",
   "metadata": {},
   "source": [
    "The minibatch potential function is then:\n",
    "$$\n",
    "\\widetilde U = (|\\mathcal D| + 1)\\mu^2 - 2 |\\mathcal D| \\mu + (|\\mathcal D|+1)\\log\\sqrt{2\\pi} + |\\mathcal D|\n",
    "$$"
   ]
  },
  {
   "cell_type": "markdown",
   "metadata": {},
   "source": [
    "Let's compute the minibatch potential function using `initialize_model` and compare it to this analytically derived form. Let's also compare it to the function computed without scaling."
   ]
  },
  {
   "cell_type": "code",
   "execution_count": 4,
   "metadata": {},
   "outputs": [
    {
     "data": {
      "image/png": "[encoded data removed]",
      "text/plain": [
       "<Figure size 432x288 with 1 Axes>"
      ]
     },
     "metadata": {
      "needs_background": "light"
     },
     "output_type": "display_data"
    }
   ],
   "source": [
    "# Compute the minibatch potential function\n",
    "scale_likelihood = data_size / data_sample_size\n",
    "_, potential_fn_minibatch, _, _ = initialize_model(\n",
    "    model,\n",
    "    model_args=(data_sample,),\n",
    "    scale_likelihood=scale_likelihood\n",
    ")\n",
    "\n",
    "# Compute the minibatch potential function without scaling\n",
    "_, potential_fn_unscaled, _, _  = initialize_model(\n",
    "    model,\n",
    "    model_args=(data_sample,),\n",
    "    scale_likelihood=1\n",
    ")\n",
    "\n",
    "# The analytical potential function\n",
    "log_sqrt_2pi = math.log(math.sqrt(2 * math.pi))\n",
    "def potential_fn_minibatch_analytic(loc):\n",
    "    return ((data_size + 1) * loc * loc\n",
    "            - 2 * data_size * loc\n",
    "            + (data_size + 1) * log_sqrt_2pi\n",
    "            + data_size)\n",
    "\n",
    "# Plot the different functions\n",
    "num_samples=50\n",
    "x = np.linspace(-2, 3, num=num_samples)\n",
    "y_minibatch = np.empty(num_samples)\n",
    "y_unscaled = np.empty(num_samples)\n",
    "y_minibatch_analytic = potential_fn_minibatch_analytic(x)\n",
    "with torch.no_grad():\n",
    "    for i in range(num_samples):\n",
    "        params = {\"loc\": torch.from_numpy(x[[i]])}\n",
    "        y_minibatch[i] = potential_fn_minibatch(params)\n",
    "        y_unscaled[i] = potential_fn_unscaled(params)\n",
    "fig, ax = plt.subplots(1, 1)\n",
    "ax.plot(x, y_minibatch, \"b\", label=\"init model\")\n",
    "ax.plot(x, y_minibatch_analytic, \"g\", label=\"analytic\")\n",
    "ax.plot(x, y_unscaled, \"r\", label=\"init model unscaled\")\n",
    "ax.legend()\n",
    "plt.show()"
   ]
  }
 ],
 "metadata": {
  "interpreter": {
   "hash": "ac8f97efb1f820d1578ffdeb62b1dbf00f6dafb62ed9a2204fceaad3b0770e21"
  },
  "kernelspec": {
   "display_name": "Python 3.9.2 ('atml-course')",
   "language": "python",
   "name": "python3"
  },
  "language_info": {
   "codemirror_mode": {
    "name": "ipython",
    "version": 3
   },
   "file_extension": ".py",
   "mimetype": "text/x-python",
   "name": "python",
   "nbconvert_exporter": "python",
   "pygments_lexer": "ipython3",
   "version": "3.9.2"
  },
  "orig_nbformat": 4
 },
 "nbformat": 4,
 "nbformat_minor": 2
}
