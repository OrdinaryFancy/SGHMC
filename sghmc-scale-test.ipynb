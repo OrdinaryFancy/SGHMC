{
 "cells": [
  {
   "cell_type": "code",
   "execution_count": 2,
   "metadata": {},
   "outputs": [],
   "source": [
    "from matplotlib import pyplot as plt\n",
    "\n",
    "import numpy as np\n",
    "\n",
    "import torch\n",
    "\n",
    "import pyro\n",
    "import pyro.distributions as dist\n",
    "\n",
    "from util import initialize_model"
   ]
  },
  {
   "cell_type": "markdown",
   "metadata": {},
   "source": [
    "Create a toy model."
   ]
  },
  {
   "cell_type": "code",
   "execution_count": 3,
   "metadata": {},
   "outputs": [],
   "source": [
    "def model(data):\n",
    "    loc = pyro.sample(\"loc\", dist.Normal(0,1))\n",
    "    return pyro.sample(\"out\", dist.Normal(loc, 1), obs=data)\n",
    "\n",
    "data = torch.tensor([1])"
   ]
  },
  {
   "cell_type": "markdown",
   "metadata": {},
   "source": [
    "Compute potential functions from the using different scale likelihoods and plot them."
   ]
  },
  {
   "cell_type": "code",
   "execution_count": 9,
   "metadata": {},
   "outputs": [
    {
     "data": {
      "image/png": "[encoded data removed]",
      "text/plain": [
       "<Figure size 432x288 with 1 Axes>"
      ]
     },
     "metadata": {
      "needs_background": "light"
     },
     "output_type": "display_data"
    }
   ],
   "source": [
    "init1 = initialize_model(\n",
    "    model,\n",
    "    model_args=(data,),\n",
    "    scale_likelihood=1\n",
    ")\n",
    "potential_fn1 = init1[1]\n",
    "\n",
    "init2 = initialize_model(\n",
    "    model,\n",
    "    model_args=(data,),\n",
    "    scale_likelihood=10\n",
    ")\n",
    "potential_fn2 = init2[1]\n",
    "\n",
    "num_samples=50\n",
    "x = np.linspace(-2, 3, num=num_samples)\n",
    "y1 = np.empty(num_samples)\n",
    "y2 = np.empty(num_samples)\n",
    "with torch.no_grad():\n",
    "    for i in range(num_samples):\n",
    "        y1[i] = potential_fn1({\"loc\": torch.from_numpy(x[[i]])})\n",
    "        y2[i] = potential_fn2({\"loc\": torch.from_numpy(x[[i]])})\n",
    "fig, ax = plt.subplots(1, 1)\n",
    "ax.plot(x, y1, \"b\")\n",
    "ax.plot(x, y2, \"g\")\n",
    "plt.show()"
   ]
  }
 ],
 "metadata": {
  "interpreter": {
   "hash": "ac8f97efb1f820d1578ffdeb62b1dbf00f6dafb62ed9a2204fceaad3b0770e21"
  },
  "kernelspec": {
   "display_name": "Python 3.9.2 ('atml-course')",
   "language": "python",
   "name": "python3"
  },
  "language_info": {
   "codemirror_mode": {
    "name": "ipython",
    "version": 3
   },
   "file_extension": ".py",
   "mimetype": "text/x-python",
   "name": "python",
   "nbconvert_exporter": "python",
   "pygments_lexer": "ipython3",
   "version": "3.9.2"
  },
  "orig_nbformat": 4
 },
 "nbformat": 4,
 "nbformat_minor": 2
}
