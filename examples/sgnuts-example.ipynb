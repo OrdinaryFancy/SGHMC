{
 "cells": [
  {
   "cell_type": "code",
   "execution_count": 1,
   "id": "442008bb",
   "metadata": {},
   "outputs": [],
   "source": [
    "import sys\n",
    "sys.path.append(\"..\")\n",
    "\n",
    "from matplotlib import pyplot as plt\n",
    "\n",
    "import torch\n",
    "import numpy as np\n",
    "from torch.distributions import Beta\n",
    "\n",
    "import pyro\n",
    "from pyro.infer.mcmc import MCMC\n",
    "import pyro.distributions as dist\n",
    "\n",
    "from kernel.sgnuts import NUTS"
   ]
  },
  {
   "cell_type": "code",
   "execution_count": 2,
   "id": "caeb36e5",
   "metadata": {},
   "outputs": [],
   "source": [
    "pyro.clear_param_store()\n",
    "\n",
    "pyro.set_rng_seed(101)\n",
    "\n",
    "# create some data with 6 observed heads and 4 observed tails\n",
    "x1 = torch.ones(10)\n",
    "x1[0:6] = torch.zeros(6)\n",
    "\n",
    "x2 = torch.ones(10)\n",
    "x2[0:2] = torch.zeros(2)\n",
    "\n",
    "    \n",
    "def model(x1, x2, alpha0=1., beta0=1.):\n",
    "    alpha0 = torch.tensor(alpha0)\n",
    "    beta0 = torch.tensor(beta0)\n",
    "    \n",
    "    f1 = pyro.sample(\"coin1\", dist.Beta(alpha0, beta0))\n",
    "    f2 = pyro.sample(\"coin2\", dist.Beta(alpha0, beta0))\n",
    "    \n",
    "    return pyro.sample(\"obs1\", dist.Bernoulli(f1), obs=x1), pyro.sample(\"obs2\", dist.Bernoulli(f2), obs=x2)"
   ]
  },
  {
   "cell_type": "code",
   "execution_count": 3,
   "id": "a6567b79",
   "metadata": {},
   "outputs": [
    {
     "name": "stderr",
     "output_type": "stream",
     "text": [
      "Sample: 100%|████████████████████████████████████████████████████████| 2000/2000 [01:01, 32.28it/s, step size=1.00e-01]\n"
     ]
    }
   ],
   "source": [
    "sgnuts_kernel = NUTS(model, \n",
    "                subsample_positions=[0, 1],\n",
    "                batch_size=5,\n",
    "                potential_fn=None,\n",
    "                learning_rate=0.01, \n",
    "                momentum_decay=0.1,\n",
    "                resample_every_n=50, \n",
    "                obs_info_noise=False, \n",
    "                compute_obs_info='every_sample',\n",
    "                use_multinomial_sampling=True,\n",
    "                max_tree_depth=10,\n",
    "                )\n",
    "\n",
    "sgnuts_mcmc = MCMC(sgnuts_kernel, num_samples=1000)\n",
    "\n",
    "sgnuts_mcmc.run(x1, x2)\n",
    "sgnuts_samples = sgnuts_mcmc.get_samples()"
   ]
  },
  {
   "cell_type": "code",
   "execution_count": 4,
   "id": "39722ab0",
   "metadata": {},
   "outputs": [
    {
     "data": {
      "image/png": "[encoded data removed]",
      "text/plain": [
       "<Figure size 432x432 with 2 Axes>"
      ]
     },
     "metadata": {
      "needs_background": "light"
     },
     "output_type": "display_data"
    }
   ],
   "source": [
    "fig, axs = plt.subplots(2, 1, figsize=(6, 6), sharex=True)\n",
    "\n",
    "def analytic_posterior(x, alpha, beta):\n",
    "    fn = Beta(alpha, beta)\n",
    "    return np.exp(fn.log_prob(x))\n",
    "    \n",
    "x = torch.tensor(np.linspace(0, 1, num=1000))\n",
    "\n",
    "with torch.no_grad():\n",
    "    axs[0].hist(sgnuts_samples[\"coin1\"].numpy(), density=True, bins=30)\n",
    "    axs[0].set(title=\"SGNUTS 'coin1' samples\")\n",
    "    axs[0].plot(x, analytic_posterior(x, 5., 7.), \"r\", label=\"analytic posterior\")\n",
    "    axs[1].hist(sgnuts_samples[\"coin2\"].numpy(), density=True, bins=30)\n",
    "    axs[1].set(title=\"SGNUTS 'coin2' samples\")\n",
    "    axs[1].plot(x, analytic_posterior(x, 9., 3.), \"r\", label=\"analytic posterior\")\n",
    "plt.xlim((0.0, 1.0))\n",
    "plt.show()"
   ]
  },
  {
   "cell_type": "code",
   "execution_count": null,
   "id": "fbacbaea",
   "metadata": {},
   "outputs": [],
   "source": []
  }
 ],
 "metadata": {
  "kernelspec": {
   "display_name": "Python 3 (ipykernel)",
   "language": "python",
   "name": "python3"
  },
  "language_info": {
   "codemirror_mode": {
    "name": "ipython",
    "version": 3
   },
   "file_extension": ".py",
   "mimetype": "text/x-python",
   "name": "python",
   "nbconvert_exporter": "python",
   "pygments_lexer": "ipython3",
   "version": "3.9.7"
  }
 },
 "nbformat": 4,
 "nbformat_minor": 5
}
