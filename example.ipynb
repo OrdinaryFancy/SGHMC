{
 "cells": [
  {
   "cell_type": "code",
   "execution_count": 1,
   "id": "4921ca94",
   "metadata": {},
   "outputs": [],
   "source": [
    "from matplotlib import pyplot as plt\n",
    "\n",
    "import torch\n",
    "\n",
    "import pyro\n",
    "from pyro.infer.mcmc import MCMC\n",
    "import pyro.distributions as dist\n",
    "from pyro.infer.mcmc import HMC as HMC_Pyro\n",
    "\n",
    "from hmc import HMC as HMC_Local\n",
    "from sghmc import SGHMC as SGHMC_Local"
   ]
  },
  {
   "cell_type": "code",
   "execution_count": 2,
   "id": "e0fe9138",
   "metadata": {},
   "outputs": [],
   "source": [
    "pyro.clear_param_store()\n",
    "\n",
    "pyro.set_rng_seed(101)\n",
    "\n",
    "# create some data with 6 observed heads and 4 observed tails\n",
    "x1 = torch.ones(10)\n",
    "x1[0:6] = torch.zeros(6)\n",
    "\n",
    "x2 = torch.ones(10)\n",
    "x2[0:2] = torch.zeros(2)\n",
    "\n",
    "    \n",
    "def model(x1, x2, alpha0=1., beta0=1.):\n",
    "    alpha0 = torch.tensor(alpha0)\n",
    "    beta0 = torch.tensor(beta0)\n",
    "    \n",
    "    f1 = pyro.sample(\"coin1\", dist.Beta(alpha0, beta0))\n",
    "    f2 = pyro.sample(\"coin2\", dist.Beta(alpha0, beta0))\n",
    "    \n",
    "    return pyro.sample(\"obs1\", dist.Bernoulli(f1), obs=x1), pyro.sample(\"obs2\", dist.Bernoulli(f2), obs=x2)"
   ]
  },
  {
   "cell_type": "code",
   "execution_count": 3,
   "id": "c0f84e32",
   "metadata": {},
   "outputs": [
    {
     "name": "stderr",
     "output_type": "stream",
     "text": [
      "Sample: 100%|████████████████████████████████████████████████████████████████████████████| 2000/2000 [00:24, 81.47it/s]\n"
     ]
    }
   ],
   "source": [
    "hmc_local = HMC_Local(model, step_size=0.75, num_steps=5)\n",
    "mcmc_local = MCMC(hmc_local, num_samples=1000)\n",
    "mcmc_local.run(x1, x2)\n",
    "samples_local = mcmc_local.get_samples()"
   ]
  },
  {
   "cell_type": "code",
   "execution_count": 8,
   "id": "7ad0f4f6",
   "metadata": {
    "scrolled": true
   },
   "outputs": [
    {
     "name": "stderr",
     "output_type": "stream",
     "text": [
      "Sample: 100%|████████████████████████████████████████████████████████| 2000/2000 [01:13, 27.19it/s, step size=1.00e-01]\n"
     ]
    }
   ],
   "source": [
    "BATCH_SIZE = 5\n",
    "\n",
    "sghmc_local = SGHMC_Local(model, \n",
    "                          subsample_positions=[0, 1],\n",
    "                          batch_size=BATCH_SIZE, \n",
    "                          step_size=0.1, \n",
    "                          num_steps=10, \n",
    "                          with_friction=True, \n",
    "                          friction_term=None, \n",
    "                          obs_info_noise=True,\n",
    "                          do_mh_correction=False,\n",
    "                          do_step_size_adaptation=False)\n",
    "\n",
    "sg_mcmc_local = MCMC(sghmc_local, num_samples=1000)\n",
    "sg_mcmc_local.run(x1, x2)\n",
    "sg_samples_local = sg_mcmc_local.get_samples()"
   ]
  },
  {
   "cell_type": "code",
   "execution_count": 5,
   "id": "ae4e184d",
   "metadata": {},
   "outputs": [
    {
     "name": "stderr",
     "output_type": "stream",
     "text": [
      "Sample: 100%|███████████████████████████████████████| 2000/2000 [00:45, 44.05it/s, step size=8.57e-01, acc. prob=0.952]\n"
     ]
    }
   ],
   "source": [
    "hmc_pyro = HMC_Pyro(model)\n",
    "mcmc_pyro = MCMC(hmc_pyro, num_samples=1000)\n",
    "mcmc_pyro.run(x1, x2)\n",
    "samples_pyro = mcmc_pyro.get_samples()"
   ]
  },
  {
   "cell_type": "code",
   "execution_count": 9,
   "id": "bbca786d",
   "metadata": {},
   "outputs": [
    {
     "data": {
      "image/png": "[encoded data removed]",
      "text/plain": [
       "<Figure size 432x576 with 3 Axes>"
      ]
     },
     "metadata": {
      "needs_background": "light"
     },
     "output_type": "display_data"
    }
   ],
   "source": [
    "fig, axs = plt.subplots(3, 1, figsize=(6, 8), sharex=True)\n",
    "with torch.no_grad():\n",
    "    axs[0].hist(samples_local[\"coin1\"].numpy(), density=True, bins=30)\n",
    "    axs[0].set(title=\"Local HMC 'coin1' samples\")\n",
    "    axs[1].hist(sg_samples_local[\"coin1\"].numpy(), density=True, bins=30)\n",
    "    axs[1].set(title=\"Local SGHMC 'coin1' samples\")\n",
    "    axs[2].hist(samples_pyro[\"coin1\"].numpy(), density=True, bins=30)\n",
    "    axs[2].set(title=\"Pyro HMC 'coin1' samples\")\n",
    "    \n",
    "plt.xlim((0.0, 1.0))\n",
    "plt.show()\n",
    "#posterior samples should look like a beta(5, 7) dist"
   ]
  },
  {
   "cell_type": "code",
   "execution_count": 10,
   "id": "d65c032a",
   "metadata": {},
   "outputs": [
    {
     "data": {
      "image/png": "[encoded data removed]",
      "text/plain": [
       "<Figure size 432x576 with 3 Axes>"
      ]
     },
     "metadata": {
      "needs_background": "light"
     },
     "output_type": "display_data"
    }
   ],
   "source": [
    "fig, axs = plt.subplots(3, 1, figsize=(6, 8), sharex=True)\n",
    "with torch.no_grad():\n",
    "    axs[0].hist(samples_local[\"coin2\"].numpy(), density=True, bins=30)\n",
    "    axs[0].set(title=\"Local HMC 'coin2' samples\")\n",
    "    axs[1].hist(sg_samples_local[\"coin2\"].numpy(), density=True, bins=30)\n",
    "    axs[1].set(title=\"Local SGHMC 'coin2' samples\")\n",
    "    axs[2].hist(samples_pyro[\"coin2\"].numpy(), density=True, bins=30)\n",
    "    axs[2].set(title=\"Pyro HMC 'coin2' samples\")\n",
    "    \n",
    "plt.xlim((0.0, 1.0))    \n",
    "plt.show()\n",
    "#posterior samples should look like a beta(9, 3) dist"
   ]
  },
  {
   "cell_type": "code",
   "execution_count": null,
   "id": "e1e0b498",
   "metadata": {},
   "outputs": [],
   "source": []
  }
 ],
 "metadata": {
  "kernelspec": {
   "display_name": "Python 3 (ipykernel)",
   "language": "python",
   "name": "python3"
  },
  "language_info": {
   "codemirror_mode": {
    "name": "ipython",
    "version": 3
   },
   "file_extension": ".py",
   "mimetype": "text/x-python",
   "name": "python",
   "nbconvert_exporter": "python",
   "pygments_lexer": "ipython3",
   "version": "3.9.7"
  }
 },
 "nbformat": 4,
 "nbformat_minor": 5
}
