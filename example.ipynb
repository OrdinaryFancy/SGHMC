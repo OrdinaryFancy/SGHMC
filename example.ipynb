{
 "cells": [
  {
   "cell_type": "code",
   "execution_count": 1,
   "id": "4921ca94",
   "metadata": {},
   "outputs": [],
   "source": [
    "from matplotlib import pyplot as plt\n",
    "\n",
    "import torch\n",
    "\n",
    "import pyro\n",
    "from pyro.infer.mcmc import MCMC\n",
    "import pyro.distributions as dist\n",
    "from pyro.infer.mcmc import HMC as HMC_Pyro\n",
    "\n",
    "from hmc import HMC as HMC_Local\n",
    "from sghmc import SGHMC as SGHMC_Local"
   ]
  },
  {
   "cell_type": "code",
   "execution_count": 2,
   "id": "e0fe9138",
   "metadata": {},
   "outputs": [
    {
     "data": {
      "text/plain": [
       "'\\ndef model_log_prob_fn(x, y, sc):\\n    cond_model = pyro.condition(model, data={\"y\": y})\\n    tr = pyro.poutine.trace(cond_model).get_trace(x)\\n    for node in tr.observation_nodes:\\n        tr.nodes[node][\\'scale\\'] = 2.0\\n    for name, site in tr.nodes.items():\\n        print(name, site)\\n    #print(tr.nodes)\\n    return tr.log_prob_sum()\\n\\nmodel_log_prob_fn(torch.tensor(1.), torch.ones(11), 2.0)\\n'"
      ]
     },
     "execution_count": 2,
     "metadata": {},
     "output_type": "execute_result"
    }
   ],
   "source": [
    "pyro.clear_param_store()\n",
    "\n",
    "#pyro.set_rng_seed(101)\n",
    "\n",
    "# create some data with 6 observed heads and 4 observed tails\n",
    "data = torch.ones(10)\n",
    "data[0:6] = torch.zeros(6)\n",
    "    \n",
    "def model(data):\n",
    "    alpha0 = torch.tensor(1.)\n",
    "    beta0 = torch.tensor(1.)\n",
    "    \n",
    "    f = pyro.sample(\"fairness\", dist.Beta(alpha0, beta0))\n",
    "    \n",
    "    for i in pyro.plate(\"data_loop\", len(data)):\n",
    "        pyro.sample(\"obs_{}\".format(i), dist.Bernoulli(f), obs=data[i])\n",
    "      \n",
    "    '''def model(data):\n",
    "    loc = pyro.sample(\"loc\", dist.Normal(5,10))\n",
    "    return pyro.sample(\"out\", dist.Normal(loc, 1), obs=data)'''\n",
    "\n",
    "    '''def sg_model(mini_batch):\n",
    "    alpha0 = torch.tensor(10.0)\n",
    "    beta0 = torch.tensor(10.0)\n",
    "    \n",
    "    f = pyro.sample(\"latent_fairness\", dist.Beta(alpha0, beta0))\n",
    "    \n",
    "    for i in pyro.plate(\"data_loop\", len(mini_batch)):\n",
    "        pyro.sample(\"obs_{}\".format(i), dist.Bernoulli(f), obs=[i])'''\n",
    "    \n",
    "'''\n",
    "def model_log_prob_fn(x, y, sc):\n",
    "    cond_model = pyro.condition(model, data={\"y\": y})\n",
    "    tr = pyro.poutine.trace(cond_model).get_trace(x)\n",
    "    for node in tr.observation_nodes:\n",
    "        tr.nodes[node]['scale'] = 2.0\n",
    "    for name, site in tr.nodes.items():\n",
    "        print(name, site)\n",
    "    #print(tr.nodes)\n",
    "    return tr.log_prob_sum()\n",
    "\n",
    "model_log_prob_fn(torch.tensor(1.), torch.ones(11), 2.0)\n",
    "'''"
   ]
  },
  {
   "cell_type": "code",
   "execution_count": 4,
   "id": "c0f84e32",
   "metadata": {},
   "outputs": [
    {
     "name": "stderr",
     "output_type": "stream",
     "text": [
      "Sample: 100%|██████████| 2000/2000 [00:42, 47.26it/s]\n"
     ]
    }
   ],
   "source": [
    "hmc_local = HMC_Local(model, step_size=0.75, num_steps=4)\n",
    "mcmc_local = MCMC(hmc_local, num_samples=1000)\n",
    "mcmc_local.run(data)\n",
    "samples_local = mcmc_local.get_samples()"
   ]
  },
  {
   "cell_type": "code",
   "execution_count": 5,
   "id": "7ad0f4f6",
   "metadata": {
    "scrolled": true
   },
   "outputs": [
    {
     "name": "stderr",
     "output_type": "stream",
     "text": [
      "Sample: 100%|██████████| 2000/2000 [00:34, 57.15it/s]\n"
     ]
    }
   ],
   "source": [
    "sghmc_local = SGHMC_Local(model, data, batch_size=5, step_size=0.75, num_steps=4, do_mh_correction=True)\n",
    "mini_batch = next(sghmc_local.data_iter)\n",
    "sg_mcmc_local = MCMC(sghmc_local, num_samples=1000)\n",
    "sg_mcmc_local.run(mini_batch)\n",
    "sg_samples_local = sg_mcmc_local.get_samples()"
   ]
  },
  {
   "cell_type": "code",
   "execution_count": 6,
   "id": "ae4e184d",
   "metadata": {},
   "outputs": [
    {
     "name": "stderr",
     "output_type": "stream",
     "text": [
      "Sample: 100%|██████████| 2000/2000 [00:44, 44.52it/s, step size=9.76e-01, acc. prob=0.970]\n"
     ]
    }
   ],
   "source": [
    "hmc_pyro = HMC_Pyro(model)\n",
    "mcmc_pyro = MCMC(hmc_pyro, num_samples=1000)\n",
    "mcmc_pyro.run(data)\n",
    "samples_pyro = mcmc_pyro.get_samples()"
   ]
  },
  {
   "cell_type": "code",
   "execution_count": 7,
   "id": "bbca786d",
   "metadata": {},
   "outputs": [
    {
     "data": {
      "image/png": "[encoded data removed]",
      "text/plain": [
       "<Figure size 432x576 with 3 Axes>"
      ]
     },
     "metadata": {
      "needs_background": "light"
     },
     "output_type": "display_data"
    }
   ],
   "source": [
    "fig, axs = plt.subplots(3, 1, figsize=(6, 8), sharex=True)\n",
    "with torch.no_grad():\n",
    "    axs[0].hist(samples_local[\"fairness\"].numpy(), density=True, bins=30)\n",
    "    axs[0].set(title=\"Local HMC 'loc' samples\")\n",
    "    axs[1].hist(sg_samples_local[\"fairness\"].numpy(), density=True, bins=30)\n",
    "    axs[1].set(title=\"Local SGHMC 'loc' samples\")\n",
    "    axs[2].hist(samples_pyro[\"fairness\"].numpy(), density=True, bins=30)\n",
    "    axs[2].set(title=\"Pyro HMC 'loc' samples\")\n",
    "plt.show()\n",
    "#posterior samples should look like a beta(5, 7) dist"
   ]
  },
  {
   "cell_type": "code",
   "execution_count": null,
   "id": "13e42310",
   "metadata": {},
   "outputs": [],
   "source": []
  }
 ],
 "metadata": {
  "kernelspec": {
   "display_name": "Python 3 (ipykernel)",
   "language": "python",
   "name": "python3"
  },
  "language_info": {
   "codemirror_mode": {
    "name": "ipython",
    "version": 3
   },
   "file_extension": ".py",
   "mimetype": "text/x-python",
   "name": "python",
   "nbconvert_exporter": "python",
   "pygments_lexer": "ipython3",
   "version": "3.8.10"
  }
 },
 "nbformat": 4,
 "nbformat_minor": 5
}
