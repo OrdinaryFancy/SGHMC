{
 "cells": [
  {
   "cell_type": "markdown",
   "id": "d4010c3d",
   "metadata": {},
   "source": [
    "# Demo\n",
    "\n",
    "The purpose of this demo is to show that using our implementation of SGHMC we get good uncertainty estimates on out-of-distribution examples, which is the key benefit of Bayesian inference."
   ]
  },
  {
   "cell_type": "code",
   "execution_count": 1,
   "id": "635a90de",
   "metadata": {},
   "outputs": [],
   "source": [
    "import sys\n",
    "sys.path.append(\"..\")\n",
    "\n",
    "import time\n",
    "import numpy as np\n",
    "import matplotlib.pyplot as plt\n",
    "\n",
    "import os\n",
    "from PIL import Image\n",
    "\n",
    "import torch\n",
    "from torchvision import datasets, transforms\n",
    "from torch.utils.data import DataLoader\n",
    "import torch.nn.functional as F\n",
    "\n",
    "import seaborn as sns # conda install seaborn\n",
    "import pandas as pd # ^^ this will automatically install pandas\n",
    "\n",
    "import pyro\n",
    "from pyro.infer.mcmc import MCMC\n",
    "import pyro.distributions as dist\n",
    "\n",
    "from kernel.sghmc import SGHMC\n",
    "\n",
    "pyro.set_rng_seed(101)"
   ]
  },
  {
   "cell_type": "code",
   "execution_count": 2,
   "id": "d36fef00",
   "metadata": {},
   "outputs": [],
   "source": [
    "# Simple dataset wrapper class\n",
    "\n",
    "class Dataset(torch.utils.data.Dataset):\n",
    "    def __init__(self, data, targets):\n",
    "        self.data = data\n",
    "        self.targets = targets\n",
    "        \n",
    "    def __len__(self):\n",
    "        return(len(self.data))\n",
    "    \n",
    "    def __getitem__(self, idx):\n",
    "        return self.data[idx], self.targets[idx]"
   ]
  },
  {
   "cell_type": "markdown",
   "id": "96dad883",
   "metadata": {},
   "source": [
    "### Hyperparams"
   ]
  },
  {
   "cell_type": "code",
   "execution_count": 3,
   "id": "3c0e17a8",
   "metadata": {},
   "outputs": [],
   "source": [
    "BATCH_SIZE = 500\n",
    "NUM_EPOCHS = 800\n",
    "WARMUP_EPOCHS = 50\n",
    "HIDDEN_SIZE = 100"
   ]
  },
  {
   "cell_type": "markdown",
   "id": "dde50376",
   "metadata": {},
   "source": [
    "### Download MNIST and setup datasets / dataloaders"
   ]
  },
  {
   "cell_type": "code",
   "execution_count": 4,
   "id": "b9539c93",
   "metadata": {},
   "outputs": [],
   "source": [
    "train_dataset = datasets.MNIST('./data', train=True, download=True)\n",
    "\n",
    "test_dataset = datasets.MNIST('./data', train=False, download=True)\n",
    "\n",
    "nvalid = 10000\n",
    "\n",
    "perm = torch.arange(len(train_dataset))\n",
    "train_idx = perm[nvalid:]\n",
    "val_idx = perm[:nvalid]\n",
    "    \n",
    "mean = 0.1307\n",
    "std = 0.3081\n",
    "\n",
    "# scale and normalise the datasets\n",
    "X_train = train_dataset.data[train_idx] / 255.0\n",
    "Y_train = train_dataset.targets[train_idx]\n",
    "\n",
    "X_val = train_dataset.data[val_idx] / 255.0 \n",
    "Y_val = train_dataset.targets[val_idx]\n",
    "\n",
    "X_test = (test_dataset.data / 255.0 - mean) / std\n",
    "Y_test = test_dataset.targets\n",
    "\n",
    "# redefine the datasets\n",
    "train_dataset = Dataset(X_train, Y_train)\n",
    "val_dataset = Dataset(X_val, Y_val)\n",
    "test_dataset = Dataset(X_test, Y_test)\n",
    "\n",
    "# setup the dataloaders\n",
    "train_loader = DataLoader(train_dataset, batch_size=BATCH_SIZE, shuffle=True)\n",
    "val_loader = DataLoader(val_dataset, batch_size=BATCH_SIZE, shuffle=False)\n",
    "test_loader = DataLoader(test_dataset, batch_size=BATCH_SIZE, shuffle=False)"
   ]
  },
  {
   "cell_type": "markdown",
   "id": "ceceb189",
   "metadata": {},
   "source": [
    "### Load out-of-distribution examples"
   ]
  },
  {
   "cell_type": "code",
   "execution_count": 5,
   "id": "a015ef67",
   "metadata": {},
   "outputs": [],
   "source": [
    "# load the test letter dataset\n",
    "letters = [\"a\",\"b\",\"c\",\"d\",\"e\",\"f\",\"g\",\"h\",\"i\",\"j\"]\n",
    "x_letters = np.array([np.array(Image.open(\"data/not-mnist/%s.png\"%(l)))\n",
    "                         for l in letters]).astype(np.float32)# loads letters data\n",
    "x_letters /= np.max(x_letters, axis=(1,2), keepdims=True)# normalise\n",
    "x_letters = torch.from_numpy(x_letters)"
   ]
  },
  {
   "cell_type": "markdown",
   "id": "43232a8c",
   "metadata": {},
   "source": [
    "### Define the Bayesian neural network  model"
   ]
  },
  {
   "cell_type": "code",
   "execution_count": 6,
   "id": "ffe190bf",
   "metadata": {},
   "outputs": [],
   "source": [
    "PyroLinear = pyro.nn.PyroModule[torch.nn.Linear]\n",
    "    \n",
    "class BNN(pyro.nn.PyroModule):\n",
    "    \n",
    "    def __init__(self, input_size, hidden_size, output_size, prec=1.):\n",
    "        super().__init__()\n",
    "        # prec is a kwarg that should only used by SGD to set the regularization strength \n",
    "        # recall that a Guassian prior over the weights is equivalent to L2 norm regularization in the non-Bayes setting\n",
    "        \n",
    "        # TODO add gamma priors to precision terms\n",
    "        self.fc1 = PyroLinear(input_size, hidden_size)\n",
    "        self.fc1.weight = pyro.nn.PyroSample(dist.Normal(0., prec).expand([hidden_size, input_size]).to_event(2))\n",
    "        self.fc1.bias   = pyro.nn.PyroSample(dist.Normal(0., prec).expand([hidden_size]).to_event(1))\n",
    "        \n",
    "        self.fc2 = PyroLinear(hidden_size, output_size)\n",
    "        self.fc2.weight = pyro.nn.PyroSample(dist.Normal(0., prec).expand([output_size, hidden_size]).to_event(2))\n",
    "        self.fc2.bias   = pyro.nn.PyroSample(dist.Normal(0., prec).expand([output_size]).to_event(1))\n",
    "        \n",
    "        self.relu = torch.nn.ReLU()\n",
    "        self.log_softmax = torch.nn.LogSoftmax(dim=1)\n",
    "\n",
    "    def forward(self, x, y=None):\n",
    "        x = x.view(-1, 28*28)\n",
    "        x = self.relu(self.fc1(x))\n",
    "        x = self.fc2(x)\n",
    "        x = self.log_softmax(x)# output (log) softmax probabilities of each class\n",
    "        \n",
    "        with pyro.plate(\"data\", x.shape[0]):\n",
    "            obs = pyro.sample(\"obs\", dist.Categorical(logits=x), obs=y)"
   ]
  },
  {
   "cell_type": "markdown",
   "id": "57dfd3f0",
   "metadata": {},
   "source": [
    "### Run SGHMC \n",
    "\n",
    "We run SGHMC to sample approximately from the posterior distribution."
   ]
  },
  {
   "cell_type": "code",
   "execution_count": 7,
   "id": "5f70419e",
   "metadata": {},
   "outputs": [
    {
     "name": "stderr",
     "output_type": "stream",
     "text": [
      "Sample: 100%|█████████████████████████████████████████████████████████████████| 100/100 [00:02, 41.28it/s, lr=8.00e-06]\n",
      "Sample: 100%|█████████████████████████████████████████████████████████████████| 100/100 [00:01, 52.14it/s, lr=8.00e-06]\n",
      "Sample: 100%|█████████████████████████████████████████████████████████████████| 100/100 [00:02, 47.50it/s, lr=8.00e-06]\n",
      "Sample: 100%|█████████████████████████████████████████████████████████████████| 100/100 [00:01, 51.66it/s, lr=8.00e-06]\n",
      "Sample: 100%|█████████████████████████████████████████████████████████████████| 100/100 [00:01, 50.31it/s, lr=8.00e-06]\n",
      "Sample: 100%|█████████████████████████████████████████████████████████████████| 100/100 [00:02, 48.77it/s, lr=8.00e-06]\n",
      "Sample: 100%|█████████████████████████████████████████████████████████████████| 100/100 [00:01, 51.18it/s, lr=8.00e-06]\n",
      "Sample: 100%|█████████████████████████████████████████████████████████████████| 100/100 [00:02, 48.25it/s, lr=8.00e-06]\n",
      "Sample: 100%|█████████████████████████████████████████████████████████████████| 100/100 [00:01, 52.91it/s, lr=8.00e-06]\n",
      "Sample: 100%|█████████████████████████████████████████████████████████████████| 100/100 [00:01, 51.66it/s, lr=8.00e-06]\n",
      "Sample: 100%|█████████████████████████████████████████████████████████████████| 100/100 [00:01, 50.33it/s, lr=8.00e-06]\n",
      "Sample: 100%|█████████████████████████████████████████████████████████████████| 100/100 [00:02, 49.91it/s, lr=8.00e-06]\n",
      "Sample: 100%|█████████████████████████████████████████████████████████████████| 100/100 [00:01, 51.31it/s, lr=8.00e-06]\n",
      "Sample: 100%|█████████████████████████████████████████████████████████████████| 100/100 [00:01, 52.30it/s, lr=8.00e-06]\n",
      "Sample: 100%|█████████████████████████████████████████████████████████████████| 100/100 [00:01, 54.11it/s, lr=8.00e-06]\n",
      "Sample: 100%|█████████████████████████████████████████████████████████████████| 100/100 [00:01, 53.91it/s, lr=8.00e-06]\n",
      "Sample: 100%|█████████████████████████████████████████████████████████████████| 100/100 [00:01, 52.88it/s, lr=8.00e-06]\n",
      "Sample: 100%|█████████████████████████████████████████████████████████████████| 100/100 [00:01, 52.11it/s, lr=8.00e-06]\n",
      "Sample: 100%|█████████████████████████████████████████████████████████████████| 100/100 [00:01, 53.50it/s, lr=8.00e-06]\n",
      "Sample: 100%|█████████████████████████████████████████████████████████████████| 100/100 [00:01, 53.25it/s, lr=8.00e-06]\n",
      "Sample: 100%|█████████████████████████████████████████████████████████████████| 100/100 [00:01, 52.25it/s, lr=8.00e-06]\n",
      "Sample: 100%|█████████████████████████████████████████████████████████████████| 100/100 [00:01, 51.37it/s, lr=8.00e-06]\n",
      "Sample: 100%|█████████████████████████████████████████████████████████████████| 100/100 [00:01, 53.08it/s, lr=8.00e-06]\n",
      "Sample: 100%|█████████████████████████████████████████████████████████████████| 100/100 [00:01, 51.18it/s, lr=8.00e-06]\n",
      "Sample: 100%|█████████████████████████████████████████████████████████████████| 100/100 [00:01, 50.95it/s, lr=8.00e-06]\n",
      "Sample: 100%|█████████████████████████████████████████████████████████████████| 100/100 [00:02, 49.15it/s, lr=8.00e-06]\n",
      "Sample: 100%|█████████████████████████████████████████████████████████████████| 100/100 [00:02, 48.74it/s, lr=8.00e-06]\n",
      "Sample: 100%|█████████████████████████████████████████████████████████████████| 100/100 [00:02, 47.97it/s, lr=8.00e-06]\n",
      "Sample: 100%|█████████████████████████████████████████████████████████████████| 100/100 [00:02, 49.37it/s, lr=8.00e-06]\n",
      "Sample: 100%|█████████████████████████████████████████████████████████████████| 100/100 [00:02, 48.60it/s, lr=8.00e-06]\n",
      "Sample: 100%|█████████████████████████████████████████████████████████████████| 100/100 [00:02, 48.25it/s, lr=8.00e-06]\n",
      "Sample: 100%|█████████████████████████████████████████████████████████████████| 100/100 [00:02, 47.59it/s, lr=8.00e-06]\n",
      "Sample: 100%|█████████████████████████████████████████████████████████████████| 100/100 [00:02, 47.18it/s, lr=8.00e-06]\n",
      "Sample: 100%|█████████████████████████████████████████████████████████████████| 100/100 [00:02, 46.66it/s, lr=8.00e-06]\n",
      "Sample: 100%|█████████████████████████████████████████████████████████████████| 100/100 [00:02, 47.21it/s, lr=8.00e-06]\n",
      "Sample: 100%|█████████████████████████████████████████████████████████████████| 100/100 [00:02, 46.70it/s, lr=8.00e-06]\n",
      "Sample: 100%|█████████████████████████████████████████████████████████████████| 100/100 [00:02, 46.92it/s, lr=8.00e-06]\n",
      "Sample: 100%|█████████████████████████████████████████████████████████████████| 100/100 [00:02, 47.84it/s, lr=8.00e-06]\n",
      "Sample: 100%|█████████████████████████████████████████████████████████████████| 100/100 [00:02, 47.41it/s, lr=8.00e-06]\n",
      "Sample: 100%|█████████████████████████████████████████████████████████████████| 100/100 [00:02, 46.06it/s, lr=8.00e-06]\n",
      "Sample: 100%|█████████████████████████████████████████████████████████████████| 100/100 [00:02, 46.55it/s, lr=8.00e-06]\n",
      "Sample: 100%|█████████████████████████████████████████████████████████████████| 100/100 [00:02, 48.44it/s, lr=8.00e-06]\n",
      "Sample: 100%|█████████████████████████████████████████████████████████████████| 100/100 [00:02, 47.72it/s, lr=8.00e-06]\n",
      "Sample: 100%|█████████████████████████████████████████████████████████████████| 100/100 [00:02, 49.10it/s, lr=8.00e-06]\n",
      "Sample: 100%|█████████████████████████████████████████████████████████████████| 100/100 [00:01, 50.21it/s, lr=8.00e-06]\n",
      "Sample: 100%|█████████████████████████████████████████████████████████████████| 100/100 [00:02, 49.61it/s, lr=8.00e-06]\n",
      "Sample: 100%|█████████████████████████████████████████████████████████████████| 100/100 [00:02, 49.22it/s, lr=8.00e-06]\n",
      "Sample: 100%|█████████████████████████████████████████████████████████████████| 100/100 [00:02, 49.13it/s, lr=8.00e-06]\n",
      "Sample: 100%|█████████████████████████████████████████████████████████████████| 100/100 [00:02, 49.34it/s, lr=8.00e-06]\n",
      "Sample: 100%|█████████████████████████████████████████████████████████████████| 100/100 [00:02, 48.30it/s, lr=8.00e-06]\n"
     ]
    },
    {
     "name": "stdout",
     "output_type": "stream",
     "text": [
      "Epoch [0/50] test accuracy: 0.9412 time: 5.75\n"
     ]
    },
    {
     "name": "stderr",
     "output_type": "stream",
     "text": [
      "Sample: 100%|█████████████████████████████████████████████████████████████████| 100/100 [00:02, 48.91it/s, lr=8.00e-06]\n"
     ]
    },
    {
     "name": "stdout",
     "output_type": "stream",
     "text": [
      "Epoch [1/50] test accuracy: 0.9423 time: 5.87\n"
     ]
    },
    {
     "name": "stderr",
     "output_type": "stream",
     "text": [
      "Sample: 100%|█████████████████████████████████████████████████████████████████| 100/100 [00:02, 47.52it/s, lr=8.00e-06]\n"
     ]
    },
    {
     "name": "stdout",
     "output_type": "stream",
     "text": [
      "Epoch [2/50] test accuracy: 0.9423 time: 5.75\n"
     ]
    },
    {
     "name": "stderr",
     "output_type": "stream",
     "text": [
      "Sample: 100%|█████████████████████████████████████████████████████████████████| 100/100 [00:02, 48.16it/s, lr=8.00e-06]\n"
     ]
    },
    {
     "name": "stdout",
     "output_type": "stream",
     "text": [
      "Epoch [3/50] test accuracy: 0.9427 time: 5.90\n"
     ]
    },
    {
     "name": "stderr",
     "output_type": "stream",
     "text": [
      "Sample: 100%|█████████████████████████████████████████████████████████████████| 100/100 [00:02, 47.97it/s, lr=8.00e-06]\n"
     ]
    },
    {
     "name": "stdout",
     "output_type": "stream",
     "text": [
      "Epoch [4/50] test accuracy: 0.9419 time: 6.03\n"
     ]
    },
    {
     "name": "stderr",
     "output_type": "stream",
     "text": [
      "Sample: 100%|█████████████████████████████████████████████████████████████████| 100/100 [00:02, 41.54it/s, lr=8.00e-06]\n"
     ]
    },
    {
     "name": "stdout",
     "output_type": "stream",
     "text": [
      "Epoch [5/50] test accuracy: 0.9419 time: 5.82\n"
     ]
    },
    {
     "name": "stderr",
     "output_type": "stream",
     "text": [
      "Sample: 100%|█████████████████████████████████████████████████████████████████| 100/100 [00:02, 48.77it/s, lr=8.00e-06]\n"
     ]
    },
    {
     "name": "stdout",
     "output_type": "stream",
     "text": [
      "Epoch [6/50] test accuracy: 0.9422 time: 6.80\n"
     ]
    },
    {
     "name": "stderr",
     "output_type": "stream",
     "text": [
      "Sample: 100%|█████████████████████████████████████████████████████████████████| 100/100 [00:02, 41.14it/s, lr=8.00e-06]\n"
     ]
    },
    {
     "name": "stdout",
     "output_type": "stream",
     "text": [
      "Epoch [7/50] test accuracy: 0.9425 time: 6.25\n"
     ]
    },
    {
     "name": "stderr",
     "output_type": "stream",
     "text": [
      "Sample: 100%|█████████████████████████████████████████████████████████████████| 100/100 [00:02, 40.76it/s, lr=8.00e-06]\n"
     ]
    },
    {
     "name": "stdout",
     "output_type": "stream",
     "text": [
      "Epoch [8/50] test accuracy: 0.9426 time: 6.52\n"
     ]
    },
    {
     "name": "stderr",
     "output_type": "stream",
     "text": [
      "Sample: 100%|█████████████████████████████████████████████████████████████████| 100/100 [00:02, 40.50it/s, lr=8.00e-06]\n"
     ]
    },
    {
     "name": "stdout",
     "output_type": "stream",
     "text": [
      "Epoch [9/50] test accuracy: 0.9426 time: 6.28\n"
     ]
    },
    {
     "name": "stderr",
     "output_type": "stream",
     "text": [
      "Sample: 100%|█████████████████████████████████████████████████████████████████| 100/100 [00:02, 41.38it/s, lr=8.00e-06]\n"
     ]
    },
    {
     "name": "stdout",
     "output_type": "stream",
     "text": [
      "Epoch [10/50] test accuracy: 0.9426 time: 6.36\n"
     ]
    },
    {
     "name": "stderr",
     "output_type": "stream",
     "text": [
      "Sample: 100%|█████████████████████████████████████████████████████████████████| 100/100 [00:02, 39.32it/s, lr=8.00e-06]\n"
     ]
    },
    {
     "name": "stdout",
     "output_type": "stream",
     "text": [
      "Epoch [11/50] test accuracy: 0.9424 time: 6.52\n"
     ]
    },
    {
     "name": "stderr",
     "output_type": "stream",
     "text": [
      "Sample: 100%|█████████████████████████████████████████████████████████████████| 100/100 [00:02, 38.30it/s, lr=8.00e-06]\n"
     ]
    },
    {
     "name": "stdout",
     "output_type": "stream",
     "text": [
      "Epoch [12/50] test accuracy: 0.9424 time: 6.64\n"
     ]
    },
    {
     "name": "stderr",
     "output_type": "stream",
     "text": [
      "Sample: 100%|█████████████████████████████████████████████████████████████████| 100/100 [00:02, 38.80it/s, lr=8.00e-06]\n"
     ]
    },
    {
     "name": "stdout",
     "output_type": "stream",
     "text": [
      "Epoch [13/50] test accuracy: 0.9418 time: 6.48\n"
     ]
    },
    {
     "name": "stderr",
     "output_type": "stream",
     "text": [
      "Sample: 100%|█████████████████████████████████████████████████████████████████| 100/100 [00:02, 38.55it/s, lr=8.00e-06]\n"
     ]
    },
    {
     "name": "stdout",
     "output_type": "stream",
     "text": [
      "Epoch [14/50] test accuracy: 0.9421 time: 6.66\n"
     ]
    },
    {
     "name": "stderr",
     "output_type": "stream",
     "text": [
      "Sample: 100%|█████████████████████████████████████████████████████████████████| 100/100 [00:02, 38.28it/s, lr=8.00e-06]\n"
     ]
    },
    {
     "name": "stdout",
     "output_type": "stream",
     "text": [
      "Epoch [15/50] test accuracy: 0.9422 time: 6.68\n"
     ]
    },
    {
     "name": "stderr",
     "output_type": "stream",
     "text": [
      "Sample: 100%|█████████████████████████████████████████████████████████████████| 100/100 [00:02, 39.00it/s, lr=8.00e-06]\n"
     ]
    },
    {
     "name": "stdout",
     "output_type": "stream",
     "text": [
      "Epoch [16/50] test accuracy: 0.9420 time: 6.51\n"
     ]
    },
    {
     "name": "stderr",
     "output_type": "stream",
     "text": [
      "Sample: 100%|█████████████████████████████████████████████████████████████████| 100/100 [00:02, 38.97it/s, lr=8.00e-06]\n"
     ]
    },
    {
     "name": "stdout",
     "output_type": "stream",
     "text": [
      "Epoch [17/50] test accuracy: 0.9423 time: 6.65\n"
     ]
    },
    {
     "name": "stderr",
     "output_type": "stream",
     "text": [
      "Sample: 100%|█████████████████████████████████████████████████████████████████| 100/100 [00:02, 38.85it/s, lr=8.00e-06]\n"
     ]
    },
    {
     "name": "stdout",
     "output_type": "stream",
     "text": [
      "Epoch [18/50] test accuracy: 0.9425 time: 6.62\n"
     ]
    },
    {
     "name": "stderr",
     "output_type": "stream",
     "text": [
      "Sample: 100%|█████████████████████████████████████████████████████████████████| 100/100 [00:02, 38.92it/s, lr=8.00e-06]\n"
     ]
    },
    {
     "name": "stdout",
     "output_type": "stream",
     "text": [
      "Epoch [19/50] test accuracy: 0.9424 time: 6.60\n"
     ]
    },
    {
     "name": "stderr",
     "output_type": "stream",
     "text": [
      "Sample: 100%|█████████████████████████████████████████████████████████████████| 100/100 [00:02, 41.52it/s, lr=8.00e-06]\n"
     ]
    },
    {
     "name": "stdout",
     "output_type": "stream",
     "text": [
      "Epoch [20/50] test accuracy: 0.9425 time: 6.26\n"
     ]
    },
    {
     "name": "stderr",
     "output_type": "stream",
     "text": [
      "Sample: 100%|█████████████████████████████████████████████████████████████████| 100/100 [00:02, 41.43it/s, lr=8.00e-06]\n"
     ]
    },
    {
     "name": "stdout",
     "output_type": "stream",
     "text": [
      "Epoch [21/50] test accuracy: 0.9424 time: 6.28\n"
     ]
    },
    {
     "name": "stderr",
     "output_type": "stream",
     "text": [
      "Sample: 100%|█████████████████████████████████████████████████████████████████| 100/100 [00:02, 41.36it/s, lr=8.00e-06]\n"
     ]
    },
    {
     "name": "stdout",
     "output_type": "stream",
     "text": [
      "Epoch [22/50] test accuracy: 0.9425 time: 6.18\n"
     ]
    },
    {
     "name": "stderr",
     "output_type": "stream",
     "text": [
      "Sample: 100%|█████████████████████████████████████████████████████████████████| 100/100 [00:02, 41.66it/s, lr=8.00e-06]\n"
     ]
    },
    {
     "name": "stdout",
     "output_type": "stream",
     "text": [
      "Epoch [23/50] test accuracy: 0.9429 time: 6.31\n"
     ]
    },
    {
     "name": "stderr",
     "output_type": "stream",
     "text": [
      "Sample: 100%|█████████████████████████████████████████████████████████████████| 100/100 [00:02, 41.04it/s, lr=8.00e-06]\n"
     ]
    },
    {
     "name": "stdout",
     "output_type": "stream",
     "text": [
      "Epoch [24/50] test accuracy: 0.9431 time: 6.56\n"
     ]
    },
    {
     "name": "stderr",
     "output_type": "stream",
     "text": [
      "Sample: 100%|█████████████████████████████████████████████████████████████████| 100/100 [00:02, 38.27it/s, lr=8.00e-06]\n"
     ]
    },
    {
     "name": "stdout",
     "output_type": "stream",
     "text": [
      "Epoch [25/50] test accuracy: 0.9431 time: 6.61\n"
     ]
    },
    {
     "name": "stderr",
     "output_type": "stream",
     "text": [
      "Sample: 100%|█████████████████████████████████████████████████████████████████| 100/100 [00:02, 38.77it/s, lr=8.00e-06]\n"
     ]
    },
    {
     "name": "stdout",
     "output_type": "stream",
     "text": [
      "Epoch [26/50] test accuracy: 0.9432 time: 6.49\n"
     ]
    },
    {
     "name": "stderr",
     "output_type": "stream",
     "text": [
      "Sample: 100%|█████████████████████████████████████████████████████████████████| 100/100 [00:02, 39.49it/s, lr=8.00e-06]\n"
     ]
    },
    {
     "name": "stdout",
     "output_type": "stream",
     "text": [
      "Epoch [27/50] test accuracy: 0.9436 time: 6.53\n"
     ]
    },
    {
     "name": "stderr",
     "output_type": "stream",
     "text": [
      "Sample: 100%|█████████████████████████████████████████████████████████████████| 100/100 [00:02, 35.53it/s, lr=8.00e-06]\n"
     ]
    },
    {
     "name": "stdout",
     "output_type": "stream",
     "text": [
      "Epoch [28/50] test accuracy: 0.9434 time: 6.80\n"
     ]
    },
    {
     "name": "stderr",
     "output_type": "stream",
     "text": [
      "Sample: 100%|█████████████████████████████████████████████████████████████████| 100/100 [00:02, 39.52it/s, lr=8.00e-06]\n"
     ]
    },
    {
     "name": "stdout",
     "output_type": "stream",
     "text": [
      "Epoch [29/50] test accuracy: 0.9437 time: 6.56\n"
     ]
    },
    {
     "name": "stderr",
     "output_type": "stream",
     "text": [
      "Sample: 100%|█████████████████████████████████████████████████████████████████| 100/100 [00:02, 39.14it/s, lr=8.00e-06]\n"
     ]
    },
    {
     "name": "stdout",
     "output_type": "stream",
     "text": [
      "Epoch [30/50] test accuracy: 0.9439 time: 6.59\n"
     ]
    },
    {
     "name": "stderr",
     "output_type": "stream",
     "text": [
      "Sample: 100%|█████████████████████████████████████████████████████████████████| 100/100 [00:02, 39.03it/s, lr=8.00e-06]\n"
     ]
    },
    {
     "name": "stdout",
     "output_type": "stream",
     "text": [
      "Epoch [31/50] test accuracy: 0.9440 time: 6.51\n"
     ]
    },
    {
     "name": "stderr",
     "output_type": "stream",
     "text": [
      "Sample: 100%|█████████████████████████████████████████████████████████████████| 100/100 [00:02, 38.91it/s, lr=8.00e-06]\n"
     ]
    },
    {
     "name": "stdout",
     "output_type": "stream",
     "text": [
      "Epoch [32/50] test accuracy: 0.9441 time: 6.72\n"
     ]
    },
    {
     "name": "stderr",
     "output_type": "stream",
     "text": [
      "Sample: 100%|█████████████████████████████████████████████████████████████████| 100/100 [00:02, 38.04it/s, lr=8.00e-06]\n"
     ]
    },
    {
     "name": "stdout",
     "output_type": "stream",
     "text": [
      "Epoch [33/50] test accuracy: 0.9441 time: 6.41\n"
     ]
    },
    {
     "name": "stderr",
     "output_type": "stream",
     "text": [
      "Sample: 100%|█████████████████████████████████████████████████████████████████| 100/100 [00:02, 39.79it/s, lr=8.00e-06]\n"
     ]
    },
    {
     "name": "stdout",
     "output_type": "stream",
     "text": [
      "Epoch [34/50] test accuracy: 0.9439 time: 6.29\n"
     ]
    },
    {
     "name": "stderr",
     "output_type": "stream",
     "text": [
      "Sample: 100%|█████████████████████████████████████████████████████████████████| 100/100 [00:02, 39.04it/s, lr=8.00e-06]\n"
     ]
    },
    {
     "name": "stdout",
     "output_type": "stream",
     "text": [
      "Epoch [35/50] test accuracy: 0.9441 time: 6.43\n"
     ]
    },
    {
     "name": "stderr",
     "output_type": "stream",
     "text": [
      "Sample: 100%|█████████████████████████████████████████████████████████████████| 100/100 [00:02, 39.34it/s, lr=8.00e-06]\n"
     ]
    },
    {
     "name": "stdout",
     "output_type": "stream",
     "text": [
      "Epoch [36/50] test accuracy: 0.9442 time: 6.53\n"
     ]
    },
    {
     "name": "stderr",
     "output_type": "stream",
     "text": [
      "Sample: 100%|█████████████████████████████████████████████████████████████████| 100/100 [00:02, 41.23it/s, lr=8.00e-06]\n"
     ]
    },
    {
     "name": "stdout",
     "output_type": "stream",
     "text": [
      "Epoch [37/50] test accuracy: 0.9444 time: 5.81\n"
     ]
    },
    {
     "name": "stderr",
     "output_type": "stream",
     "text": [
      "Sample: 100%|█████████████████████████████████████████████████████████████████| 100/100 [00:02, 48.11it/s, lr=8.00e-06]\n"
     ]
    },
    {
     "name": "stdout",
     "output_type": "stream",
     "text": [
      "Epoch [38/50] test accuracy: 0.9443 time: 5.64\n"
     ]
    },
    {
     "name": "stderr",
     "output_type": "stream",
     "text": [
      "Sample: 100%|█████████████████████████████████████████████████████████████████| 100/100 [00:02, 45.33it/s, lr=8.00e-06]\n"
     ]
    },
    {
     "name": "stdout",
     "output_type": "stream",
     "text": [
      "Epoch [39/50] test accuracy: 0.9445 time: 6.16\n"
     ]
    },
    {
     "name": "stderr",
     "output_type": "stream",
     "text": [
      "Sample: 100%|█████████████████████████████████████████████████████████████████| 100/100 [00:02, 46.16it/s, lr=8.00e-06]\n"
     ]
    },
    {
     "name": "stdout",
     "output_type": "stream",
     "text": [
      "Epoch [40/50] test accuracy: 0.9447 time: 7.10\n"
     ]
    },
    {
     "name": "stderr",
     "output_type": "stream",
     "text": [
      "Sample: 100%|█████████████████████████████████████████████████████████████████| 100/100 [00:02, 35.41it/s, lr=8.00e-06]\n"
     ]
    },
    {
     "name": "stdout",
     "output_type": "stream",
     "text": [
      "Epoch [41/50] test accuracy: 0.9442 time: 6.96\n"
     ]
    },
    {
     "name": "stderr",
     "output_type": "stream",
     "text": [
      "Sample: 100%|█████████████████████████████████████████████████████████████████| 100/100 [00:02, 38.34it/s, lr=8.00e-06]\n"
     ]
    },
    {
     "name": "stdout",
     "output_type": "stream",
     "text": [
      "Epoch [42/50] test accuracy: 0.9443 time: 7.30\n"
     ]
    },
    {
     "name": "stderr",
     "output_type": "stream",
     "text": [
      "Sample: 100%|█████████████████████████████████████████████████████████████████| 100/100 [00:02, 33.86it/s, lr=8.00e-06]\n"
     ]
    },
    {
     "name": "stdout",
     "output_type": "stream",
     "text": [
      "Epoch [43/50] test accuracy: 0.9441 time: 7.93\n"
     ]
    },
    {
     "name": "stderr",
     "output_type": "stream",
     "text": [
      "Sample: 100%|█████████████████████████████████████████████████████████████████| 100/100 [00:02, 34.42it/s, lr=8.00e-06]\n"
     ]
    },
    {
     "name": "stdout",
     "output_type": "stream",
     "text": [
      "Epoch [44/50] test accuracy: 0.9439 time: 7.77\n"
     ]
    },
    {
     "name": "stderr",
     "output_type": "stream",
     "text": [
      "Sample: 100%|█████████████████████████████████████████████████████████████████| 100/100 [00:03, 31.87it/s, lr=8.00e-06]\n"
     ]
    },
    {
     "name": "stdout",
     "output_type": "stream",
     "text": [
      "Epoch [45/50] test accuracy: 0.9437 time: 7.83\n"
     ]
    },
    {
     "name": "stderr",
     "output_type": "stream",
     "text": [
      "Sample: 100%|█████████████████████████████████████████████████████████████████| 100/100 [00:02, 37.11it/s, lr=8.00e-06]\n"
     ]
    },
    {
     "name": "stdout",
     "output_type": "stream",
     "text": [
      "Epoch [46/50] test accuracy: 0.9438 time: 6.84\n"
     ]
    },
    {
     "name": "stderr",
     "output_type": "stream",
     "text": [
      "Sample: 100%|█████████████████████████████████████████████████████████████████| 100/100 [00:02, 36.80it/s, lr=8.00e-06]\n"
     ]
    },
    {
     "name": "stdout",
     "output_type": "stream",
     "text": [
      "Epoch [47/50] test accuracy: 0.9440 time: 6.92\n"
     ]
    },
    {
     "name": "stderr",
     "output_type": "stream",
     "text": [
      "Sample: 100%|█████████████████████████████████████████████████████████████████| 100/100 [00:02, 36.05it/s, lr=8.00e-06]\n"
     ]
    },
    {
     "name": "stdout",
     "output_type": "stream",
     "text": [
      "Epoch [48/50] test accuracy: 0.9441 time: 7.15\n"
     ]
    },
    {
     "name": "stderr",
     "output_type": "stream",
     "text": [
      "Sample: 100%|█████████████████████████████████████████████████████████████████| 100/100 [00:02, 37.71it/s, lr=8.00e-06]\n"
     ]
    },
    {
     "name": "stdout",
     "output_type": "stream",
     "text": [
      "Epoch [49/50] test accuracy: 0.9441 time: 6.89\n"
     ]
    },
    {
     "name": "stderr",
     "output_type": "stream",
     "text": [
      "Sample: 100%|█████████████████████████████████████████████████████████████████| 100/100 [00:02, 34.49it/s, lr=8.00e-06]\n"
     ]
    },
    {
     "name": "stdout",
     "output_type": "stream",
     "text": [
      "Epoch [50/50] test accuracy: 0.9444 time: 7.48\n"
     ]
    }
   ],
   "source": [
    "LR = 8e-6\n",
    "MOMENTUM_DECAY = 0.1\n",
    "RESAMPLE_EVERY_N = 100\n",
    "NUM_STEPS = 1\n",
    "\n",
    "pyro.clear_param_store()\n",
    "\n",
    "bnn = BNN(28*28, HIDDEN_SIZE, 10)\n",
    "\n",
    "sghmc = SGHMC(bnn,\n",
    "              subsample_positions=[0, 1],\n",
    "              batch_size=BATCH_SIZE,\n",
    "              learning_rate=LR,\n",
    "              momentum_decay=MOMENTUM_DECAY,\n",
    "              num_steps=NUM_STEPS,\n",
    "              resample_every_n=RESAMPLE_EVERY_N)\n",
    "\n",
    "sghmc_mcmc = MCMC(sghmc, num_samples=len(train_dataset)//BATCH_SIZE, warmup_steps=0)\n",
    "\n",
    "sghmc_test_errs = []\n",
    "\n",
    "# full posterior predictive \n",
    "full_predictive = torch.FloatTensor(10000, 10)\n",
    "full_predictive.zero_()\n",
    "\n",
    "# full letter posterior predictive\n",
    "full_letter_predictive = torch.FloatTensor(10, 10)\n",
    "full_letter_predictive.zero_()\n",
    "\n",
    "for epoch in range(1, 1+NUM_EPOCHS + WARMUP_EPOCHS):\n",
    "    sghmc_mcmc.run(X_train, Y_train)\n",
    "    \n",
    "    if epoch >= WARMUP_EPOCHS:\n",
    "        \n",
    "        sghmc_samples = sghmc_mcmc.get_samples()\n",
    "        predictive = pyro.infer.Predictive(bnn, posterior_samples=sghmc_samples)\n",
    "        start = time.time()\n",
    "        \n",
    "        with torch.no_grad():\n",
    "            epoch_predictive = None\n",
    "            for x, y in val_loader:\n",
    "                if epoch_predictive is None:\n",
    "                    epoch_predictive = predictive(x)['obs'].to(torch.int64)\n",
    "                else:\n",
    "                    epoch_predictive = torch.cat((epoch_predictive, predictive(x)['obs'].to(torch.int64)), dim=1)\n",
    "        \n",
    "            for sample in epoch_predictive:\n",
    "                predictive_one_hot = F.one_hot(sample, num_classes=10)\n",
    "                full_predictive = full_predictive + predictive_one_hot\n",
    "                \n",
    "            full_y_hat = torch.argmax(full_predictive, dim=1)\n",
    "            total = Y_val.shape[0]\n",
    "            correct = int((full_y_hat == Y_val).sum())\n",
    "            \n",
    "            letter_predictive = None\n",
    "            for i in range(x_letters.shape[0]):\n",
    "                letter = x_letters[i, :, :]\n",
    "                if letter_predictive is None:\n",
    "                    letter_predictive = predictive(letter)['obs'].to(torch.int64)\n",
    "                else:\n",
    "                    letter_predictive = torch.cat((letter_predictive, predictive(letter)['obs'].to(torch.int64)), dim=1)\n",
    "                    \n",
    "            for sample in letter_predictive:\n",
    "                letter_predictive_one_hot = F.one_hot(sample, num_classes=10)\n",
    "                full_letter_predictive = full_letter_predictive + letter_predictive_one_hot\n",
    "            \n",
    "        end = time.time()\n",
    "        \n",
    "        sghmc_test_errs.append(1.0 - correct/total)\n",
    "\n",
    "        print(\"Epoch [{}/{}] test accuracy: {:.4f} time: {:.2f}\".format(epoch-WARMUP_EPOCHS, NUM_EPOCHS, correct/total, end - start))"
   ]
  },
  {
   "cell_type": "markdown",
   "id": "2ff1721e",
   "metadata": {},
   "source": [
    "### Plot out-of-distribution examples\n",
    "\n",
    "Below we plot the predictions for out-of-distribution examples "
   ]
  },
  {
   "cell_type": "code",
   "execution_count": 17,
   "id": "17134c9e",
   "metadata": {},
   "outputs": [
    {
     "data": {
      "image/png": "[encoded data removed]",
      "text/plain": [
       "<Figure size 432x288 with 1 Axes>"
      ]
     },
     "metadata": {
      "needs_background": "light"
     },
     "output_type": "display_data"
    },
    {
     "data": {
      "image/png": "[encoded data removed]",
      "text/plain": [
       "<Figure size 432x288 with 1 Axes>"
      ]
     },
     "metadata": {
      "needs_background": "light"
     },
     "output_type": "display_data"
    },
    {
     "data": {
      "image/png": "[encoded data removed]",
      "text/plain": [
       "<Figure size 432x288 with 1 Axes>"
      ]
     },
     "metadata": {
      "needs_background": "light"
     },
     "output_type": "display_data"
    },
    {
     "data": {
      "image/png": "[encoded data removed]",
      "text/plain": [
       "<Figure size 432x288 with 1 Axes>"
      ]
     },
     "metadata": {
      "needs_background": "light"
     },
     "output_type": "display_data"
    },
    {
     "data": {
      "image/png": "[encoded data removed]",
      "text/plain": [
       "<Figure size 432x288 with 1 Axes>"
      ]
     },
     "metadata": {
      "needs_background": "light"
     },
     "output_type": "display_data"
    },
    {
     "data": {
      "image/png": "[encoded data removed]",
      "text/plain": [
       "<Figure size 432x288 with 1 Axes>"
      ]
     },
     "metadata": {
      "needs_background": "light"
     },
     "output_type": "display_data"
    },
    {
     "data": {
      "image/png": "[encoded data removed]",
      "text/plain": [
       "<Figure size 432x288 with 1 Axes>"
      ]
     },
     "metadata": {
      "needs_background": "light"
     },
     "output_type": "display_data"
    },
    {
     "data": {
      "image/png": "[encoded data removed]",
      "text/plain": [
       "<Figure size 432x288 with 1 Axes>"
      ]
     },
     "metadata": {
      "needs_background": "light"
     },
     "output_type": "display_data"
    },
    {
     "data": {
      "image/png": "[encoded data removed]",
      "text/plain": [
       "<Figure size 432x288 with 1 Axes>"
      ]
     },
     "metadata": {
      "needs_background": "light"
     },
     "output_type": "display_data"
    },
    {
     "data": {
      "image/png": "[encoded data removed]",
      "text/plain": [
       "<Figure size 432x288 with 1 Axes>"
      ]
     },
     "metadata": {
      "needs_background": "light"
     },
     "output_type": "display_data"
    }
   ],
   "source": [
    "for letter_predictive in full_letter_predictive:\n",
    "    posterior_dist = letter_predictive.to(torch.int64).numpy()\n",
    "    plt.bar(letters, posterior_dist) \n",
    "    plt.show()"
   ]
  },
  {
   "cell_type": "code",
   "execution_count": null,
   "id": "3d247c10",
   "metadata": {},
   "outputs": [],
   "source": []
  }
 ],
 "metadata": {
  "kernelspec": {
   "display_name": "Python 3 (ipykernel)",
   "language": "python",
   "name": "python3"
  },
  "language_info": {
   "codemirror_mode": {
    "name": "ipython",
    "version": 3
   },
   "file_extension": ".py",
   "mimetype": "text/x-python",
   "name": "python",
   "nbconvert_exporter": "python",
   "pygments_lexer": "ipython3",
   "version": "3.9.7"
  }
 },
 "nbformat": 4,
 "nbformat_minor": 5
}
